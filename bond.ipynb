{
 "cells": [
  {
   "attachments": {},
   "cell_type": "markdown",
   "metadata": {},
   "source": [
    "* regression:\n",
    "  * check R^2 between percentage changes to control for spurious trends\n",
    "\n",
    "##### risk associated with fixed income instruments\n",
    "   * interest rate risk\n",
    "\n",
    "      the risk that change in interest rate affects the demand for the fixed income of a bond, which in turn affects the bond price and yield\n",
    "\n",
    "      interest rate risk is the most predominant risk for fixed income instrument\n",
    "\n",
    "   * credit risk\n",
    "\n",
    "      the risk that the issuer cannot pay back the principal, i.e. defaulting\n",
    "\n",
    "   * inflation risk\n",
    "\n",
    "      the risk that the inflation will erode the cash flow generated from fixed income instruments\n",
    "\n",
    "   * financing/liquidity risk\n",
    "\n",
    "      lack of liquidity (ability to buy and sell without impacting market price) could be caused by lack of financing market (i.e. inability to borrow) and can cause uncorrelated assets move together as there is need to sell to raise fund\n",
    "\n",
    "   * tax risk\n",
    "\n",
    "      fixed income cash flows are taxable\n",
    "\n",
    "   * regulatory risk\n",
    "\n",
    "##### zero-coupon bond\n",
    "a bond that pays no interest in the interim and instead pays a fixed amount at maturity\n",
    "\n",
    "##### present value of cash flow\n",
    "what is the value such that it can generate the cash flow given market rate r?\n",
    "e.g. zero coupon bond that matures in 10 years with $100 principal\n",
    "the principal = pv * (1 + y)^10\n",
    "\n",
    "##### pv of fixed coupon bond\n",
    "a fixed coupon bond can be thought of as a series zero-coupon bonds that matures semi-anually, and a zero-coupon bond with the principal\n",
    "which would generate the same cash flow as the fixed coupon bond\n",
    "the pv of a fixed coupon bond is therefore the sum of pv's of these zero-coupon bonds\n",
    "\n",
    "##### yield to maturity\n",
    "if the market price differs from the calculated pv, then the \"effective\" internal yield y is no longer the same as the market interest rate\n",
    "we call this effective yield \"yield to maturity\" or simply yield\n",
    "the price of the bond is inversely proportional to yield\n",
    "\n",
    "##### yield curve\n",
    "a plot of yield vs bond maturities\n",
    "the yield curve changes through time as market condition changes\n",
    "so really it would be interesting to see the plot in three axis: yield, maturities, time\n",
    "yield curve with positive slope may suggest the investors demand better yield\n",
    "for longer maturities, as they may speculate the interest rate may rise in the future\n",
    "\n",
    "##### Leveraging\n",
    "A hedge fund may gain larger PnL by leveraging i.e. by borrowing money to fund a trade.\n",
    "\n",
    "e.g. a 10:1 leverage\n",
    "\n",
    "If I have $100, and the bond costs $100. I could borrow $900 and buy 10 issuance of the bond.\n",
    "If the bond price increases or decreases by $2, instead of a 2% PnL, leveraging could result in 20% PnL\n",
    "\n",
    "##### Repo Market\n",
    "Repo Market is the market for short-tearm loans, e.g. over-night loans\n",
    "\n",
    "In a repo trade, a lender such as a bank or a mutual fund, will lend out cash with the agreement to receive it tat a later date.\n",
    "The borrower of the cash, such as hedge fund, will lend out bonds as collateral with the agreement to repurchase them later at a fixed price.\n",
    "\n",
    "e.g. bank lend out $98 cash, in exchange for $100 worth of bonds, the hedge fund buys back the bond at $99,\n",
    "the 1 dollar cost is the repo rate\n",
    "\n",
    "For most Treasuries, the repo rate is near a standard rate known as the general collateral rate, GC rate for short.\n",
    "The GC rate is set by the repo market participants, based on the supply and demand of short-term funding, and the collateral.\n",
    "\n",
    "If the collateral of a specific bond is in high demand, then it maybe repo'd at a lower rate than the GC rate known as the special rate. This tends to be the case for some on-the-run bonds or cheapest-to-deliver bonds in a bond futures basket.\n",
    "\n",
    "##### Carry\n",
    "Carry is the net income from owning an asset, in the context of bonds, carry is the difference between the coupon and the financing cost of the position, e.g. repo rates"
   ]
  },
  {
   "cell_type": "code",
   "execution_count": null,
   "metadata": {},
   "outputs": [],
   "source": [
    "%reload_ext autoreload\n",
    "%autoreload 2\n",
    "\n",
    "import numpy as np\n",
    "import plotly.express as px\n",
    "import plotly.graph_objects as go\n",
    "import pandas as pd\n",
    "\n",
    "from bond import FixedCouponBond"
   ]
  },
  {
   "attachments": {},
   "cell_type": "markdown",
   "metadata": {},
   "source": [
    "#### Present Value vs Yield Plot"
   ]
  },
  {
   "cell_type": "code",
   "execution_count": 87,
   "metadata": {},
   "outputs": [
    {
     "data": {
      "application/vnd.plotly.v1+json": {
       "config": {
        "plotlyServerURL": "https://plot.ly"
       },
       "data": [
        {
         "name": "m = 5",
         "type": "scatter",
         "x": [
          0.03,
          0.04,
          0.05,
          0.06,
          0.07
         ],
         "xaxis": "x",
         "y": [
          109.22218455185453,
          104.49129250312109,
          100.00000000000009,
          95.73489858161206,
          91.68339467742211
         ],
         "yaxis": "y"
        },
        {
         "name": "m = 10",
         "type": "scatter",
         "x": [
          0.03,
          0.04,
          0.05,
          0.06,
          0.07
         ],
         "xaxis": "x",
         "y": [
          117.16863878508211,
          108.17571667229852,
          100.00000000000011,
          92.5612625697722,
          85.7875966980478
         ],
         "yaxis": "y"
        },
        {
         "name": "m = 5",
         "type": "scatter",
         "x": [
          0.01,
          0.02,
          0.03,
          0.04,
          0.05,
          0.06,
          0.07,
          0.08,
          0.09,
          0.1,
          0.11,
          0.12,
          0.13,
          0.14,
          0.15,
          0.16,
          0.17,
          0.18,
          0.19,
          0.2,
          0.21,
          0.22,
          0.23,
          0.24,
          0.25,
          0.26,
          0.27,
          0.28,
          0.29,
          0.3,
          0.31,
          0.32,
          0.33,
          0.34,
          0.35,
          0.36,
          0.37,
          0.38,
          0.39,
          0.4,
          0.41,
          0.42,
          0.43,
          0.44,
          0.45,
          0.46,
          0.47,
          0.48,
          0.49,
          0.5,
          0.51,
          0.52,
          0.53,
          0.54,
          0.55,
          0.56,
          0.57,
          0.58,
          0.59,
          0.6,
          0.61,
          0.62,
          0.63,
          0.64,
          0.65,
          0.66,
          0.67,
          0.68,
          0.69,
          0.7,
          0.71,
          0.72,
          0.73,
          0.74,
          0.75,
          0.76,
          0.77,
          0.78,
          0.79,
          0.8,
          0.81,
          0.82,
          0.83,
          0.84,
          0.85,
          0.86,
          0.87,
          0.88,
          0.89,
          0.9,
          0.91,
          0.92,
          0.93,
          0.94,
          0.95,
          0.96,
          0.97,
          0.98,
          0.99
         ],
         "xaxis": "x2",
         "y": [
          119.46082372157261,
          114.20695679605251,
          109.22218455185453,
          104.49129250312109,
          100.00000000000009,
          95.73489858161206,
          91.68339467742211,
          87.83365633096744,
          84.17456364577973,
          80.69566267703794,
          77.38712251423314,
          74.23969532004853,
          71.24467910895564,
          68.39388306580327,
          65.67959522009764,
          63.09455230582202,
          60.63191164966321,
          58.28522494246641,
          56.048413759748556,
          53.91574670721484,
          51.88181807654652,
          49.94152790529971,
          48.090063342662965,
          46.322881230096755,
          44.6356918125951,
          43.024443502494755,
          41.485308623470715,
          40.01467006762378,
          38.609108803431006,
          37.26539217682216,
          35.98046295179597,
          34.75142904082415,
          33.575553878836864,
          32.4502473978642,
          31.373057562438305,
          30.341662428671626,
          29.3538626925222,
          28.407574695166282,
          27.500823855625153,
          26.63173850286151,
          25.798544081473032,
          24.999557706888858,
          24.233183047619132,
          23.497905513638536,
          22.792287731400304,
          22.114965287296748,
          21.46464272260267,
          20.840089764076325,
          20.240137775446986,
          19.663676416,
          19.109650493382848,
          18.5770569986046,
          18.06494231199059,
          17.572399569589095,
          17.098566180211357,
          16.64262148392309,
          16.2037845433993,
          15.781312060106764,
          15.374496407794748,
          14.982663776253855,
          14.605172418752128,
          14.241410996974224,
          13.890797017680601,
          13.552775355666428,
          13.22681685794073,
          12.912417024362455,
          12.609094760267473,
          12.316391196896348,
          12.0338685756924,
          11.761109192780445,
          11.497714400163588,
          11.243303660386118,
          10.997513651609044,
          10.759997420229446,
          10.530423578348236,
          10.308475543553119,
          10.09385081863545,
          9.88626030900186,
          9.68542767567474,
          9.49108872190073,
          9.302990811503358,
          9.120892317225618,
          8.944562097411243,
          8.773778999470172,
          8.608331388663817,
          8.448016700831307,
          8.292641017757061,
          8.14201866395554,
          7.995971823718749,
          7.854330177338721,
          7.716930555478717,
          7.5836166107256915,
          7.454238505410968,
          7.328652614837947,
          7.2067212451038145,
          7.0883123647480915,
          6.973299349503442,
          6.861560739464734,
          6.752980008030177
         ],
         "yaxis": "y2"
        },
        {
         "name": "m = 10",
         "type": "scatter",
         "x": [
          0.01,
          0.02,
          0.03,
          0.04,
          0.05,
          0.06,
          0.07,
          0.08,
          0.09,
          0.1,
          0.11,
          0.12,
          0.13,
          0.14,
          0.15,
          0.16,
          0.17,
          0.18,
          0.19,
          0.2,
          0.21,
          0.22,
          0.23,
          0.24,
          0.25,
          0.26,
          0.27,
          0.28,
          0.29,
          0.3,
          0.31,
          0.32,
          0.33,
          0.34,
          0.35,
          0.36,
          0.37,
          0.38,
          0.39,
          0.4,
          0.41,
          0.42,
          0.43,
          0.44,
          0.45,
          0.46,
          0.47,
          0.48,
          0.49,
          0.5,
          0.51,
          0.52,
          0.53,
          0.54,
          0.55,
          0.56,
          0.57,
          0.58,
          0.59,
          0.6,
          0.61,
          0.62,
          0.63,
          0.64,
          0.65,
          0.66,
          0.67,
          0.68,
          0.69,
          0.7,
          0.71,
          0.72,
          0.73,
          0.74,
          0.75,
          0.76,
          0.77,
          0.78,
          0.79,
          0.8,
          0.81,
          0.82,
          0.83,
          0.84,
          0.85,
          0.86,
          0.87,
          0.88,
          0.89,
          0.9,
          0.91,
          0.92,
          0.93,
          0.94,
          0.95,
          0.96,
          0.97,
          0.98,
          0.99
         ],
         "xaxis": "x2",
         "y": [
          137.97483829333993,
          127.06832944940564,
          117.16863878508211,
          108.17571667229852,
          100.00000000000011,
          92.5612625697722,
          85.7875966980478,
          79.61451048254843,
          73.98412709709268,
          68.84447414364999,
          64.14885254521515,
          59.855275735021564,
          55.92597101054893,
          52.326935895177236,
          49.027543204040455,
          46.00018925902886,
          43.21998035442533,
          40.66445315094148,
          38.313325182104926,
          36.14827210181075,
          34.15272869308671,
          32.31171100238148,
          30.61165726681543,
          29.040285568887796,
          27.586466388564563,
          26.240108430327954,
          24.992056286051756,
          23.83399865641662,
          22.75838599659543,
          21.75835657837944,
          20.827670072767866,
          19.960647856043636,
          19.1521193300341,
          18.39737362494619,
          17.692116122041348,
          17.032429294517758,
          16.414737419194164,
          15.835774759748146,
          15.292556865047517,
          14.782354664151526,
          14.302671073388598,
          13.851219861025385,
          13.42590654184624,
          13.024811097843173,
          12.646172342498005,
          12.288373765118756,
          11.949930708623668,
          11.629478749281883,
          11.325763160417665,
          11.037629354146162,
          10.764014205991039,
          10.503938176877538,
          10.256498155623632,
          10.020860952777312,
          9.796257383567474,
          9.5819768839366,
          9.377362609182375,
          9.181806969721613,
          8.99474756296474,
          8.815663464305874,
          8.644071843842504,
          8.479524878680621,
          8.321606933597048,
          8.169931985452164,
          8.024141269106185,
          7.883901124715823,
          7.748901028201718,
          7.618851788400428,
          7.493483895969244,
          7.372546010513056,
          7.255803573667453,
          7.14303753701326,
          7.034043194728801,
          6.928629111817103,
          6.8266161395870295,
          6.727836510828363,
          6.632133007809354,
          6.539358196848092,
          6.44937372377333,
          6.362049665101145,
          6.277263930216948,
          6.1949017102718535,
          6.114854969883045,
          6.037021978073357,
          5.961306875198227,
          5.88761927289331,
          5.815873884334095,
          5.74599018233423,
          5.677892083022491,
          5.611507653032954,
          5.5467688383193785,
          5.4836112128659735,
          5.421973745713104,
          5.361798584850038,
          5.3030308566484585,
          5.245618479621431,
          5.189511991393666,
          5.134664387861174,
          5.081030973602817
         ],
         "yaxis": "y2"
        }
       ],
       "layout": {
        "annotations": [
         {
          "font": {
           "size": 16
          },
          "showarrow": false,
          "text": "linear for small dy",
          "x": 0.225,
          "xanchor": "center",
          "xref": "paper",
          "y": 1,
          "yanchor": "bottom",
          "yref": "paper"
         },
         {
          "font": {
           "size": 16
          },
          "showarrow": false,
          "text": "non-linear for big dy",
          "x": 0.775,
          "xanchor": "center",
          "xref": "paper",
          "y": 1,
          "yanchor": "bottom",
          "yref": "paper"
         },
         {
          "font": {
           "size": 16
          },
          "showarrow": false,
          "text": "Yield",
          "x": 0.5,
          "xanchor": "center",
          "xref": "paper",
          "y": 0,
          "yanchor": "top",
          "yref": "paper",
          "yshift": -30
         },
         {
          "font": {
           "size": 16
          },
          "showarrow": false,
          "text": "Present Value",
          "textangle": -90,
          "x": 0,
          "xanchor": "right",
          "xref": "paper",
          "xshift": -40,
          "y": 0.5,
          "yanchor": "middle",
          "yref": "paper"
         }
        ],
        "template": {
         "data": {
          "bar": [
           {
            "error_x": {
             "color": "#2a3f5f"
            },
            "error_y": {
             "color": "#2a3f5f"
            },
            "marker": {
             "line": {
              "color": "#E5ECF6",
              "width": 0.5
             },
             "pattern": {
              "fillmode": "overlay",
              "size": 10,
              "solidity": 0.2
             }
            },
            "type": "bar"
           }
          ],
          "barpolar": [
           {
            "marker": {
             "line": {
              "color": "#E5ECF6",
              "width": 0.5
             },
             "pattern": {
              "fillmode": "overlay",
              "size": 10,
              "solidity": 0.2
             }
            },
            "type": "barpolar"
           }
          ],
          "carpet": [
           {
            "aaxis": {
             "endlinecolor": "#2a3f5f",
             "gridcolor": "white",
             "linecolor": "white",
             "minorgridcolor": "white",
             "startlinecolor": "#2a3f5f"
            },
            "baxis": {
             "endlinecolor": "#2a3f5f",
             "gridcolor": "white",
             "linecolor": "white",
             "minorgridcolor": "white",
             "startlinecolor": "#2a3f5f"
            },
            "type": "carpet"
           }
          ],
          "choropleth": [
           {
            "colorbar": {
             "outlinewidth": 0,
             "ticks": ""
            },
            "type": "choropleth"
           }
          ],
          "contour": [
           {
            "colorbar": {
             "outlinewidth": 0,
             "ticks": ""
            },
            "colorscale": [
             [
              0,
              "#0d0887"
             ],
             [
              0.1111111111111111,
              "#46039f"
             ],
             [
              0.2222222222222222,
              "#7201a8"
             ],
             [
              0.3333333333333333,
              "#9c179e"
             ],
             [
              0.4444444444444444,
              "#bd3786"
             ],
             [
              0.5555555555555556,
              "#d8576b"
             ],
             [
              0.6666666666666666,
              "#ed7953"
             ],
             [
              0.7777777777777778,
              "#fb9f3a"
             ],
             [
              0.8888888888888888,
              "#fdca26"
             ],
             [
              1,
              "#f0f921"
             ]
            ],
            "type": "contour"
           }
          ],
          "contourcarpet": [
           {
            "colorbar": {
             "outlinewidth": 0,
             "ticks": ""
            },
            "type": "contourcarpet"
           }
          ],
          "heatmap": [
           {
            "colorbar": {
             "outlinewidth": 0,
             "ticks": ""
            },
            "colorscale": [
             [
              0,
              "#0d0887"
             ],
             [
              0.1111111111111111,
              "#46039f"
             ],
             [
              0.2222222222222222,
              "#7201a8"
             ],
             [
              0.3333333333333333,
              "#9c179e"
             ],
             [
              0.4444444444444444,
              "#bd3786"
             ],
             [
              0.5555555555555556,
              "#d8576b"
             ],
             [
              0.6666666666666666,
              "#ed7953"
             ],
             [
              0.7777777777777778,
              "#fb9f3a"
             ],
             [
              0.8888888888888888,
              "#fdca26"
             ],
             [
              1,
              "#f0f921"
             ]
            ],
            "type": "heatmap"
           }
          ],
          "heatmapgl": [
           {
            "colorbar": {
             "outlinewidth": 0,
             "ticks": ""
            },
            "colorscale": [
             [
              0,
              "#0d0887"
             ],
             [
              0.1111111111111111,
              "#46039f"
             ],
             [
              0.2222222222222222,
              "#7201a8"
             ],
             [
              0.3333333333333333,
              "#9c179e"
             ],
             [
              0.4444444444444444,
              "#bd3786"
             ],
             [
              0.5555555555555556,
              "#d8576b"
             ],
             [
              0.6666666666666666,
              "#ed7953"
             ],
             [
              0.7777777777777778,
              "#fb9f3a"
             ],
             [
              0.8888888888888888,
              "#fdca26"
             ],
             [
              1,
              "#f0f921"
             ]
            ],
            "type": "heatmapgl"
           }
          ],
          "histogram": [
           {
            "marker": {
             "pattern": {
              "fillmode": "overlay",
              "size": 10,
              "solidity": 0.2
             }
            },
            "type": "histogram"
           }
          ],
          "histogram2d": [
           {
            "colorbar": {
             "outlinewidth": 0,
             "ticks": ""
            },
            "colorscale": [
             [
              0,
              "#0d0887"
             ],
             [
              0.1111111111111111,
              "#46039f"
             ],
             [
              0.2222222222222222,
              "#7201a8"
             ],
             [
              0.3333333333333333,
              "#9c179e"
             ],
             [
              0.4444444444444444,
              "#bd3786"
             ],
             [
              0.5555555555555556,
              "#d8576b"
             ],
             [
              0.6666666666666666,
              "#ed7953"
             ],
             [
              0.7777777777777778,
              "#fb9f3a"
             ],
             [
              0.8888888888888888,
              "#fdca26"
             ],
             [
              1,
              "#f0f921"
             ]
            ],
            "type": "histogram2d"
           }
          ],
          "histogram2dcontour": [
           {
            "colorbar": {
             "outlinewidth": 0,
             "ticks": ""
            },
            "colorscale": [
             [
              0,
              "#0d0887"
             ],
             [
              0.1111111111111111,
              "#46039f"
             ],
             [
              0.2222222222222222,
              "#7201a8"
             ],
             [
              0.3333333333333333,
              "#9c179e"
             ],
             [
              0.4444444444444444,
              "#bd3786"
             ],
             [
              0.5555555555555556,
              "#d8576b"
             ],
             [
              0.6666666666666666,
              "#ed7953"
             ],
             [
              0.7777777777777778,
              "#fb9f3a"
             ],
             [
              0.8888888888888888,
              "#fdca26"
             ],
             [
              1,
              "#f0f921"
             ]
            ],
            "type": "histogram2dcontour"
           }
          ],
          "mesh3d": [
           {
            "colorbar": {
             "outlinewidth": 0,
             "ticks": ""
            },
            "type": "mesh3d"
           }
          ],
          "parcoords": [
           {
            "line": {
             "colorbar": {
              "outlinewidth": 0,
              "ticks": ""
             }
            },
            "type": "parcoords"
           }
          ],
          "pie": [
           {
            "automargin": true,
            "type": "pie"
           }
          ],
          "scatter": [
           {
            "fillpattern": {
             "fillmode": "overlay",
             "size": 10,
             "solidity": 0.2
            },
            "type": "scatter"
           }
          ],
          "scatter3d": [
           {
            "line": {
             "colorbar": {
              "outlinewidth": 0,
              "ticks": ""
             }
            },
            "marker": {
             "colorbar": {
              "outlinewidth": 0,
              "ticks": ""
             }
            },
            "type": "scatter3d"
           }
          ],
          "scattercarpet": [
           {
            "marker": {
             "colorbar": {
              "outlinewidth": 0,
              "ticks": ""
             }
            },
            "type": "scattercarpet"
           }
          ],
          "scattergeo": [
           {
            "marker": {
             "colorbar": {
              "outlinewidth": 0,
              "ticks": ""
             }
            },
            "type": "scattergeo"
           }
          ],
          "scattergl": [
           {
            "marker": {
             "colorbar": {
              "outlinewidth": 0,
              "ticks": ""
             }
            },
            "type": "scattergl"
           }
          ],
          "scattermapbox": [
           {
            "marker": {
             "colorbar": {
              "outlinewidth": 0,
              "ticks": ""
             }
            },
            "type": "scattermapbox"
           }
          ],
          "scatterpolar": [
           {
            "marker": {
             "colorbar": {
              "outlinewidth": 0,
              "ticks": ""
             }
            },
            "type": "scatterpolar"
           }
          ],
          "scatterpolargl": [
           {
            "marker": {
             "colorbar": {
              "outlinewidth": 0,
              "ticks": ""
             }
            },
            "type": "scatterpolargl"
           }
          ],
          "scatterternary": [
           {
            "marker": {
             "colorbar": {
              "outlinewidth": 0,
              "ticks": ""
             }
            },
            "type": "scatterternary"
           }
          ],
          "surface": [
           {
            "colorbar": {
             "outlinewidth": 0,
             "ticks": ""
            },
            "colorscale": [
             [
              0,
              "#0d0887"
             ],
             [
              0.1111111111111111,
              "#46039f"
             ],
             [
              0.2222222222222222,
              "#7201a8"
             ],
             [
              0.3333333333333333,
              "#9c179e"
             ],
             [
              0.4444444444444444,
              "#bd3786"
             ],
             [
              0.5555555555555556,
              "#d8576b"
             ],
             [
              0.6666666666666666,
              "#ed7953"
             ],
             [
              0.7777777777777778,
              "#fb9f3a"
             ],
             [
              0.8888888888888888,
              "#fdca26"
             ],
             [
              1,
              "#f0f921"
             ]
            ],
            "type": "surface"
           }
          ],
          "table": [
           {
            "cells": {
             "fill": {
              "color": "#EBF0F8"
             },
             "line": {
              "color": "white"
             }
            },
            "header": {
             "fill": {
              "color": "#C8D4E3"
             },
             "line": {
              "color": "white"
             }
            },
            "type": "table"
           }
          ]
         },
         "layout": {
          "annotationdefaults": {
           "arrowcolor": "#2a3f5f",
           "arrowhead": 0,
           "arrowwidth": 1
          },
          "autotypenumbers": "strict",
          "coloraxis": {
           "colorbar": {
            "outlinewidth": 0,
            "ticks": ""
           }
          },
          "colorscale": {
           "diverging": [
            [
             0,
             "#8e0152"
            ],
            [
             0.1,
             "#c51b7d"
            ],
            [
             0.2,
             "#de77ae"
            ],
            [
             0.3,
             "#f1b6da"
            ],
            [
             0.4,
             "#fde0ef"
            ],
            [
             0.5,
             "#f7f7f7"
            ],
            [
             0.6,
             "#e6f5d0"
            ],
            [
             0.7,
             "#b8e186"
            ],
            [
             0.8,
             "#7fbc41"
            ],
            [
             0.9,
             "#4d9221"
            ],
            [
             1,
             "#276419"
            ]
           ],
           "sequential": [
            [
             0,
             "#0d0887"
            ],
            [
             0.1111111111111111,
             "#46039f"
            ],
            [
             0.2222222222222222,
             "#7201a8"
            ],
            [
             0.3333333333333333,
             "#9c179e"
            ],
            [
             0.4444444444444444,
             "#bd3786"
            ],
            [
             0.5555555555555556,
             "#d8576b"
            ],
            [
             0.6666666666666666,
             "#ed7953"
            ],
            [
             0.7777777777777778,
             "#fb9f3a"
            ],
            [
             0.8888888888888888,
             "#fdca26"
            ],
            [
             1,
             "#f0f921"
            ]
           ],
           "sequentialminus": [
            [
             0,
             "#0d0887"
            ],
            [
             0.1111111111111111,
             "#46039f"
            ],
            [
             0.2222222222222222,
             "#7201a8"
            ],
            [
             0.3333333333333333,
             "#9c179e"
            ],
            [
             0.4444444444444444,
             "#bd3786"
            ],
            [
             0.5555555555555556,
             "#d8576b"
            ],
            [
             0.6666666666666666,
             "#ed7953"
            ],
            [
             0.7777777777777778,
             "#fb9f3a"
            ],
            [
             0.8888888888888888,
             "#fdca26"
            ],
            [
             1,
             "#f0f921"
            ]
           ]
          },
          "colorway": [
           "#636efa",
           "#EF553B",
           "#00cc96",
           "#ab63fa",
           "#FFA15A",
           "#19d3f3",
           "#FF6692",
           "#B6E880",
           "#FF97FF",
           "#FECB52"
          ],
          "font": {
           "color": "#2a3f5f"
          },
          "geo": {
           "bgcolor": "white",
           "lakecolor": "white",
           "landcolor": "#E5ECF6",
           "showlakes": true,
           "showland": true,
           "subunitcolor": "white"
          },
          "hoverlabel": {
           "align": "left"
          },
          "hovermode": "closest",
          "mapbox": {
           "style": "light"
          },
          "paper_bgcolor": "white",
          "plot_bgcolor": "#E5ECF6",
          "polar": {
           "angularaxis": {
            "gridcolor": "white",
            "linecolor": "white",
            "ticks": ""
           },
           "bgcolor": "#E5ECF6",
           "radialaxis": {
            "gridcolor": "white",
            "linecolor": "white",
            "ticks": ""
           }
          },
          "scene": {
           "xaxis": {
            "backgroundcolor": "#E5ECF6",
            "gridcolor": "white",
            "gridwidth": 2,
            "linecolor": "white",
            "showbackground": true,
            "ticks": "",
            "zerolinecolor": "white"
           },
           "yaxis": {
            "backgroundcolor": "#E5ECF6",
            "gridcolor": "white",
            "gridwidth": 2,
            "linecolor": "white",
            "showbackground": true,
            "ticks": "",
            "zerolinecolor": "white"
           },
           "zaxis": {
            "backgroundcolor": "#E5ECF6",
            "gridcolor": "white",
            "gridwidth": 2,
            "linecolor": "white",
            "showbackground": true,
            "ticks": "",
            "zerolinecolor": "white"
           }
          },
          "shapedefaults": {
           "line": {
            "color": "#2a3f5f"
           }
          },
          "ternary": {
           "aaxis": {
            "gridcolor": "white",
            "linecolor": "white",
            "ticks": ""
           },
           "baxis": {
            "gridcolor": "white",
            "linecolor": "white",
            "ticks": ""
           },
           "bgcolor": "#E5ECF6",
           "caxis": {
            "gridcolor": "white",
            "linecolor": "white",
            "ticks": ""
           }
          },
          "title": {
           "x": 0.05
          },
          "xaxis": {
           "automargin": true,
           "gridcolor": "white",
           "linecolor": "white",
           "ticks": "",
           "title": {
            "standoff": 15
           },
           "zerolinecolor": "white",
           "zerolinewidth": 2
          },
          "yaxis": {
           "automargin": true,
           "gridcolor": "white",
           "linecolor": "white",
           "ticks": "",
           "title": {
            "standoff": 15
           },
           "zerolinecolor": "white",
           "zerolinewidth": 2
          }
         }
        },
        "xaxis": {
         "anchor": "y",
         "domain": [
          0,
          0.45
         ]
        },
        "xaxis2": {
         "anchor": "y2",
         "domain": [
          0.55,
          1
         ]
        },
        "yaxis": {
         "anchor": "x",
         "domain": [
          0,
          1
         ]
        },
        "yaxis2": {
         "anchor": "x2",
         "domain": [
          0,
          1
         ]
        }
       }
      }
     },
     "metadata": {},
     "output_type": "display_data"
    }
   ],
   "source": [
    "from plotly.subplots import make_subplots\n",
    "\n",
    "y = 0.05\n",
    "p = 100\n",
    "c = 5\n",
    "\n",
    "fig = make_subplots(\n",
    "    rows=1,\n",
    "    cols=2,\n",
    "    subplot_titles=(\"linear for small dy\", \"non-linear for big dy\"),\n",
    "    x_title=\"Yield\",\n",
    "    y_title=\"Present Value\",\n",
    "    )\n",
    "\n",
    "yields = [i / 100 for i in range(3, 8)]\n",
    "pvs = [FixedCouponBond(c, p, maturity=5).present_value(y) for y in yields]\n",
    "fig = fig.add_trace(go.Scatter(x=yields, y=pvs, name=\"m = 5\"), row=1, col=1)\n",
    "pvs = [FixedCouponBond(c, p, maturity=10).present_value(y) for y in yields]\n",
    "fig = fig.add_trace(go.Scatter(x=yields, y=pvs, name=\"m = 10\"), row=1, col=1)\n",
    "\n",
    "yields = [i / 100 for i in range(1, 100)]\n",
    "pvs = [FixedCouponBond(c, p, maturity=5).present_value(y) for y in yields]\n",
    "fig = fig.add_trace(go.Scatter(x=yields, y=pvs, name=\"m = 5\"), row=1, col=2)\n",
    "pvs = [FixedCouponBond(c, p, maturity=10).present_value(y) for y in yields]\n",
    "fig = fig.add_trace(go.Scatter(x=yields, y=pvs, name=\"m = 10\"), row=1, col=2)\n",
    "\n",
    "fig.show()\n"
   ]
  },
  {
   "attachments": {},
   "cell_type": "markdown",
   "metadata": {},
   "source": [
    "* effect of changing maturity\n",
    "\n",
    "    Notice that the maturity increases the slope, meaning the PV is more sensitive to change in yield\n",
    "    this is because money has timed value associated with it\n",
    "\n",
    "* if the market interest rate is higher than the coupon\n",
    "\n",
    "    then the bond has to be discounted to offset the lower coupon, and higher\n",
    "    maturity means the investors are taking on this risk for longer duration\n",
    "    so the bond has to be further discounted \n",
    "\n",
    "* if the market interest rate is lower than the coupon\n",
    "\n",
    "    then the bond is sold at a premium, as we are beating the market interest\n",
    "    rate, higher maturity means longer period with higher returns, therefore\n",
    "    results in higher premium\n",
    "* if the interest rate is the same as the coupon\n",
    "\n",
    "    The bond must be sold equal to the value of the principal, as the fixed income cashflow matches exactly with the market interest rate\n",
    "\n",
    "\n",
    "#### Non-linear relationship between PV and yield\n",
    "Notice under small yield changes, the relationship appears to be linear, this is not the case for big yield changes, this means we need higher order derivatives in order to approximate how the PV changes under big yield changes, the second order derivative is called convexity\n",
    "\n",
    "The convexity is more important in more volatile market conditions, as it has larger yield changes"
   ]
  },
  {
   "cell_type": "code",
   "execution_count": 55,
   "metadata": {},
   "outputs": [
    {
     "name": "stdout",
     "output_type": "stream",
     "text": [
      "pv 100.00000000000009\n",
      "total_raw_return 125.0\n",
      "macaulay_duration 4.485432764622604\n",
      "modified duration 4.376031965485468\n",
      "cash_flow [(2.5, 0.5), (2.5, 1.0), (2.5, 1.5), (2.5, 2.0), (2.5, 2.5), (2.5, 3.0), (2.5, 3.5), (2.5, 4.0), (2.5, 4.5), (2.5, 5.0), (100, 5)]\n"
     ]
    }
   ],
   "source": [
    "y = 0.05\n",
    "c = 5\n",
    "p = 100\n",
    "m = 5\n",
    "\n",
    "bond = FixedCouponBond(c, p, m)\n",
    "pv = bond.present_value(y)\n",
    "\n",
    "# the PV equal to the principal when coupon equal to the market interest rate\n",
    "print(\"pv\", pv)\n",
    "print(\"total_raw_return\", sum(cash for cash, _ in bond.cash_flow))\n",
    "print(\"macaulay_duration\", bond.macaulay_duration(y))\n",
    "print(\"modified duration\", bond.modified_duration(y))\n",
    "print(\"cash_flow\", bond.cash_flow)"
   ]
  },
  {
   "attachments": {},
   "cell_type": "markdown",
   "metadata": {},
   "source": [
    "#### Macaulay and Modified Macaulay Duration\n",
    "Macaulay duration is essentially the first derivative of the present value wrt interest rate\n",
    "\n",
    "There are two versions, modified Macaulay duration and Macaulay duration both has unit of time\n",
    "* MD measures the weighted average time to receive the bond's cash flows, taking into account the size and timing of those cash flows\n",
    "* Modified MD is the MD adjusted so it is the first derivative of PV\n",
    "\n",
    "    The modified MD used as a first order approximation of how much the PV changes under small perturbation of interest rate y\n",
    "\n",
    "\n",
    "\n",
    "$$Modified MD = -\\frac{1}{PV} \\frac{\\partial PV}{\\partial y}$$\n",
    "$$Modified MD = \\frac{MD}{1 + \\frac{y}{n}}$$\n",
    "where n is the coupon frequency"
   ]
  },
  {
   "cell_type": "code",
   "execution_count": 46,
   "metadata": {},
   "outputs": [
    {
     "name": "stdout",
     "output_type": "stream",
     "text": [
      "\n",
      "bond.present_value(0.06) - bond.present_value(0.05)=-4.265101418388028\n",
      "-bond.modified_duration(0.05)=-4.376031965485468\n",
      "\n",
      "Notice under larger change in interest rate, the modified duration no longer a good approximate.\n",
      "bond.present_value(0.20) - bond.present_value(0.05)=-46.08425329278524\n",
      "-bond.modified_duration(0.05) * 15=-65.64047948228202\n",
      "Therefore The modified duration is a good approximate of how much PV changes under small changes of interest rate.\n",
      "\n",
      "Notice how the modified duration changes when yield changes, this is because\n",
      "there is a non-linear relationship between the PV and the yield.\n",
      "So the first derivative i.e. duration depends on yield as well.\n",
      "\n",
      "bond.modified_duration(0.05)=4.376031965485468\n",
      "bond.modified_duration(0.06)=4.34143554134103\n",
      "\n",
      "In order to better approximate how the PV changes under larger changes in the interest rate, we need to calculate higher order derivatives\n",
      "The second order derivative is called the Convexity\n",
      "\n",
      "\n"
     ]
    }
   ],
   "source": [
    "c = 5\n",
    "p = 100\n",
    "m = 5\n",
    "\n",
    "bond = FixedCouponBond(c, p, m)\n",
    "# if the original interest rate is 0.05 and it changes to 0.06\n",
    "# then we expect the present value to decrease by the modified duration\n",
    "\n",
    "print(f\"\"\"\n",
    "{bond.present_value(0.06) - bond.present_value(0.05)=}\n",
    "{-bond.modified_duration(0.05)=}\n",
    "\n",
    "Notice under larger change in interest rate, the modified duration no longer a good approximate.\n",
    "{bond.present_value(0.20) - bond.present_value(0.05)=}\n",
    "{-bond.modified_duration(0.05) * 15=}\n",
    "Therefore The modified duration is a good approximate of how much PV changes under small changes of interest rate.\n",
    "\n",
    "Notice how the modified duration changes when yield changes, this is because\n",
    "there is a non-linear relationship between the PV and the yield.\n",
    "So the first derivative i.e. duration depends on yield as well.\n",
    "\n",
    "{bond.modified_duration(0.05)=}\n",
    "{bond.modified_duration(0.06)=}\n",
    "\n",
    "In order to better approximate how the PV changes under larger changes in the interest rate, we need to calculate higher order derivatives\n",
    "The second order derivative is called the Convexity\n",
    "\n",
    "\"\"\")"
   ]
  },
  {
   "cell_type": "code",
   "execution_count": 67,
   "metadata": {},
   "outputs": [
    {
     "data": {
      "text/plain": [
       "1.6487210647252784"
      ]
     },
     "execution_count": 67,
     "metadata": {},
     "output_type": "execute_result"
    }
   ],
   "source": [
    "r = 0.05\n",
    "t = 10\n",
    "n = 100000\n",
    "discrete = (1 + r / n) **(n*t)\n",
    "continuous = np.exp(r * t)\n",
    "100 * (continuous - discrete) / discrete\n",
    "discrete"
   ]
  }
 ],
 "metadata": {
  "kernelspec": {
   "display_name": "Python 3",
   "language": "python",
   "name": "python3"
  },
  "language_info": {
   "codemirror_mode": {
    "name": "ipython",
    "version": 3
   },
   "file_extension": ".py",
   "mimetype": "text/x-python",
   "name": "python",
   "nbconvert_exporter": "python",
   "pygments_lexer": "ipython3",
   "version": "3.10.9"
  },
  "orig_nbformat": 4,
  "vscode": {
   "interpreter": {
    "hash": "e7370f93d1d0cde622a1f8e1c04877d8463912d04d973331ad4851f04de6915a"
   }
  }
 },
 "nbformat": 4,
 "nbformat_minor": 2
}
